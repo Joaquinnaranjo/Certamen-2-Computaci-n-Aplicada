{
 "cells": [
  {
   "cell_type": "code",
   "execution_count": null,
   "id": "d87be694-2b52-4a63-b63a-99c91fca7dc4",
   "metadata": {},
   "outputs": [],
   "source": [
    "  Importación de librerías necesarias: Importar librerías para manipulación de archivos, datos, visualización y normalización\n",
    "import os\n",
    "import glob\n",
    "import numpy as np\n",
    "import pandas as pd\n",
    "import matplotlib.pyplot as plt\n",
    "from sklearn.preprocessing import MinMaxScaler, StandardScaler, RobustScaler\n",
    "import joblib\n",
    "from IPython.core.interactiveshell import InteractiveShell\n",
    "InteractiveShell.ast_node_interactivity = \"all\"\n"
   ]
  },
  {
   "cell_type": "code",
   "execution_count": null,
   "id": "08885d8c-fe5d-478c-8931-dc1d7b484b56",
   "metadata": {},
   "outputs": [],
   "source": [
    "Carga de datos crudos desde archivo CSV: Leer los datos del chancador desde un archivo CSV\n",
    "file = os.path.join('C:/.../Doc Chancador', 'Chancador_Raw_Data.csv')\n",
    "df1 = pd.read_csv(file)\n",
    "df1\n"
   ]
  },
  {
   "cell_type": "code",
   "execution_count": null,
   "id": "3cf4b69c-39a7-48fe-824a-12b1692758f7",
   "metadata": {},
   "outputs": [],
   "source": [
    "Eliminación de columnas innecesarias: Reducir el dataset a las columnas útiles.\n",
    "df1 = df1.drop([\n",
    "\t'Corriente.4', 'Unnamed: 0', 'V. Cero.2', 'V. Cero.1',\n",
    "\t'Corriente.3', 'V. Cero', 'Corriente.2', 'Pesómetro', 'Corriente.1'\n",
    "], axis='columns')\n",
    "df1"
   ]
  },
  {
   "cell_type": "code",
   "execution_count": null,
   "id": "88083a6b-1caa-4adf-b2fe-68a3fd7b01af",
   "metadata": {},
   "outputs": [],
   "source": [
    " Conversión de columnas a tipos apropiados (números y fechas): Preparar los datos para análisis numérico y temporal.\n",
    "# Convertir columnas a datetime o numérico\n",
    "columnas_numericas = ['Corriente', 'Presión C. Eje', 'T° Retorno', 'T° socket Linner',\n",
    "                      'T° Excéntrica', 'T° Alimentación', 'T° Desc. C. Eje', 'Salto Anillo',\n",
    "                      'Unnamed: 9', 'Unnamed: 10', 'Unnamed: 11', 'Nivel Taza', 'Setting']\n",
    "\n",
    "for col in columnas_numericas:\n",
    "    df1[col] = pd.to_numeric(df1[col], errors='coerce')\n",
    "\n",
    "df1['Tiempo'] = pd.to_datetime(df1['Tiempo'], errors='coerce')\n",
    "df1\n"
   ]
  },
  {
   "cell_type": "code",
   "execution_count": null,
   "id": "8a745e45-668e-4dff-853c-9623957eab17",
   "metadata": {},
   "outputs": [],
   "source": [
    "Limpieza de filas con datos faltantes: Eliminar registros incompletos.\n",
    "df1 = df1.dropna()\n",
    "df1\n"
   ]
  },
  {
   "cell_type": "code",
   "execution_count": null,
   "id": "2491833e-b934-4b41-8a32-9de9b19e0db1",
   "metadata": {},
   "outputs": [],
   "source": [
    " Configuración de 'Tiempo' como índice: Habilitar análisis por tiempo al usar Tiempo como índice.\n",
    "df1.set_index('Tiempo', inplace=True)\n",
    "df1\n"
   ]
  },
  {
   "cell_type": "code",
   "execution_count": null,
   "id": "d93a4d66-3458-4c82-a356-f55e4b51e2b9",
   "metadata": {},
   "outputs": [],
   "source": [
    "naAgrupación en ventanas de 12 minUtos (media) : Suavizar los datos agrupando por bloques de 12 minutos.\n",
    "from functools import partial\n",
    "from pandas.tseries.frequencies import to_offset\n",
    "\n",
    "def roundfunc(t, freq):\n",
    "    freq = to_offset(freq)\n",
    "    return pd.Timestamp((t.value // freq.delta.value) * freq.delta.value)\n",
    "\n",
    "df12 = df1.groupby(partial(roundfunc, freq='12T')).median()\n",
    "df12\n"
   ]
  },
  {
   "cell_type": "code",
   "execution_count": null,
   "id": "2af36d2a-3b42-47fa-a8aa-c68ead4d60ed",
   "metadata": {},
   "outputs": [],
   "source": [
    "Guardado y recarga de datos agregados: Persistir los datos agrupados y cargarlos con estructura temporal correcta.\n",
    "\n",
    "file = os.path.join('C:/.../Doc Chancador', '12T')\n",
    "df12.to_csv(file)\n",
    "df8 = pd.read_csv(file)\n",
    "df8['Tiempo'] = pd.to_datetime(df8['Tiempo'], errors='coerce')\n",
    "df8.set_index('Tiempo', inplace=True)\n",
    "df8\n",
    "\n"
   ]
  },
  {
   "cell_type": "code",
   "execution_count": null,
   "id": "4e5120e6-5ad3-4c31-8137-400ac8ee6d94",
   "metadata": {},
   "outputs": [],
   "source": [
    "Carga de eventos de detención desde Excel: Filtrar solo las detenciones del chancador y clasificar pausas.\n",
    "file = os.path.join('C:/.../Doc Chancador', 'DetencionesRev.xlsx')\n",
    "df9 = pd.read_excel(file)\n",
    "df9 = df9.drop(['Detalle de Reporte','Año','MES','Tipo de Detención (2)',\n",
    "                'Tiempo Detención (hrs)','Día','Fecha','Unnamed: 0'], axis='columns')\n",
    "df9 = df9[df9['Equipo'] == '130-CV-004']\n",
    "df9['Tipo de Detención'].mask(df9['Tipo de Detención'].isin([\"Operacional\", \"Mantención Programada\"]),\n",
    "                              other='Pausa', inplace=True)\n",
    "df9\n"
   ]
  },
  {
   "cell_type": "code",
   "execution_count": null,
   "id": "6429f2dd-63ed-4122-90f2-94a71c78f58a",
   "metadata": {},
   "outputs": [],
   "source": [
    "Crear etiquetas de salud del equipo: Asignar etiquetas a cada instante de tiempo según su estado.\n",
    "\n",
    "col_start = df9['Inicio']\n",
    "col_end = df9['Fin']\n",
    "idx = pd.IntervalIndex.from_arrays(col_start, col_end, closed='left')\n",
    "df9_interval = df9.set_index(idx).drop(columns=['Inicio','Fin'])\n",
    "df_labels24 = pd.DataFrame(index=df8.index)\n",
    "df_labels24['Estado de Salud '] = 'Operativo'\n",
    "\n",
    "for i, r in df9_interval.iterrows():\n",
    "    mask = (df_labels24.index >= i.left) & (df_labels24.index < i.right)\n",
    "    df_labels24.loc[mask, 'Estado de Salud '] = r['Tipo de Detención']\n",
    "df_labels24\n",
    "\n"
   ]
  },
  {
   "cell_type": "code",
   "execution_count": null,
   "id": "defd4350-9088-401f-8c45-e10e7762089f",
   "metadata": {},
   "outputs": [],
   "source": [
    "Unir datos agregados con etiquetas: Juntar mediciones con el estado operativo/falla de la máquina.\n",
    "df25 = pd.concat([df8, df_labels24], axis='columns')\n",
    "df25\n"
   ]
  },
  {
   "cell_type": "code",
   "execution_count": null,
   "id": "4ba8e78f-5ebc-435f-bd3d-512adccc8f6b",
   "metadata": {},
   "outputs": [],
   "source": [
    "Codificación binaria de la variable de estado: Eliminar pausas y codificar el estado como binario:\n",
    "\n",
    "0: Operativo,\n",
    "1: Falla.\n",
    "df25 = df25[df25['Estado de Salud '] != 'Pausa']\n",
    "df25['Estado de Salud '].mask(df25['Estado de Salud '] == 'Operativo', other=0, inplace=True)\n",
    "df25['Estado de Salud '].mask(df25['Estado de Salud '] == 'Falla', other=1, inplace=True)\n",
    "df25\n"
   ]
  },
  {
   "cell_type": "code",
   "execution_count": null,
   "id": "76899ba7-0a67-4a65-a818-056a55114d48",
   "metadata": {},
   "outputs": [],
   "source": [
    " Separación en variables (X) y etiquetas (Y): Separar entradas del modelo y sus etiquetas.\n",
    "df28 = df25.drop(columns=['Estado de Salud '])\n",
    "df29 = df25[['Estado de Salud ']]\n",
    "df28"
   ]
  },
  {
   "cell_type": "code",
   "execution_count": null,
   "id": "e95eaca5-287d-46c1-b77c-b60c97a0f844",
   "metadata": {},
   "outputs": [],
   "source": [
    "Funciones auxiliares (windowing y split): Construir ventanas deslizantes temporales para entrenamiento y validación.\n",
    "def datetime_window(dfx, dfy, dfy_total, scaler, size, periods, y_choose='last', ahead=''):\n",
    "    catcolsx = dfx.select_dtypes(['category']).columns\n",
    "    dfx[catcolsx] = dfx[catcolsx].apply(lambda x: x.cat.codes)\n",
    "\n",
    "    catcolsy = dfy.select_dtypes(['category']).columns\n",
    "    dfy[catcolsy] = dfy[catcolsy].apply(lambda x: x.cat.codes)\n",
    "\n",
    "    catcolsy_total = dfy_total.select_dtypes(['category']).columns\n",
    "    dfy_total[catcolsy_total] = dfy_total[catcolsy_total].apply(lambda x: x.cat.codes)\n",
    "\n",
    "    ind = []\n",
    "    x = []\n",
    "    y = []\n",
    "\n",
    "    def get_windows(win):\n",
    "        if (win.shape[0] != periods):\n",
    "            return np.nan\n",
    "\n",
    "        if (y_choose == 'ahead'):\n",
    "            wy = dfy.loc[win.index, :]\n",
    "            try:\n",
    "                wy = dfy_total.loc[wy.index[-1] + pd.Timedelta(ahead)]\n",
    "                y.append(wy)\n",
    "                wx = dfx.loc[win.index, :]\n",
    "                x.append(wx)\n",
    "                ind.append(win.index[0])\n",
    "            except:\n",
    "                pass\n",
    "        else:\n",
    "            wx = dfx.loc[win.index, :]\n",
    "            x.append(wx)\n",
    "            wy = dfy.loc[win.index, :]\n",
    "            wy = wy.iloc[-1] if y_choose == 'last' else wy.iloc[0]\n",
    "            y.append(wy)\n",
    "            ind.append(win.index[0])\n",
    "\n",
    "        return np.nan\n",
    "\n",
    "    dfx.iloc[:, 0].rolling(size).apply(get_windows)\n",
    "    return x, y, ind\n",
    "\n"
   ]
  },
  {
   "cell_type": "code",
   "execution_count": null,
   "id": "2fcb61a4-4d6e-46ad-ae54-3af6703d9c6a",
   "metadata": {},
   "outputs": [],
   "source": [
    "Ejecución de separación y normalización: Separar datos en conjuntos de entrenamiento y prueba usando ventanas, con normalización.\n",
    "\n",
    "def normal_anomal_split(dfx, dfy, size, periods, y_choose='last', ahead='', custom_normal_split=False, normal_test_ratio=0.1, scaler='MinMaxScaler'):\n",
    "def print_list_shape(lst):\n",
    "    s = ''\n",
    "    if (len(lst) > 0):\n",
    "        s += str(len(lst)) + ' x ' + str(np.array(lst[0]).shape)\n",
    "    else:\n",
    "        s += 'empty'\n",
    "    return s\n",
    "    x_train, x_test, y_test, x_mix, y_mix, i_mix, myscaler = normal_anomal_split(\n",
    "    dfx=df28, dfy=df29, size='12T', periods=10, y_choose='last', ahead='',\n",
    "    custom_normal_split=False, normal_test_ratio=0.1, scaler='MinMaxScaler')\n",
    "\n",
    "print('Entrenamiento:', print_list_shape(x_train))\n",
    "print('Test:', print_list_shape(x_test))\n",
    "print('Etiquetas:', print_list_shape(y_test))"
   ]
  },
  {
   "cell_type": "code",
   "execution_count": null,
   "id": "759c535c-e436-452e-a061-e24fccf4ab87",
   "metadata": {},
   "outputs": [],
   "source": [
    " Almacenamiento final en estructura para ML: Consolidar todos los datos listos par\n",
    "a modelamiento (ej. LSTM o Autoencoder).\n",
    "df28 = {\n",
    "    'x_train': np.array(x_train),\n",
    "    'x_test': np.array(x_test),\n",
    "    'y_test': np.array(y_test),\n",
    "    'x_mix': np.array(x_mix),\n",
    "    'y_mix': np.array(y_mix),\n",
    "    'i_mix': i_mix,\n",
    "    'myscaler': myscaler,\n",
    "}"
   ]
  }
 ],
 "metadata": {
  "kernelspec": {
   "display_name": "Python 3 (ipykernel)",
   "language": "python",
   "name": "python3"
  },
  "language_info": {
   "codemirror_mode": {
    "name": "ipython",
    "version": 3
   },
   "file_extension": ".py",
   "mimetype": "text/x-python",
   "name": "python",
   "nbconvert_exporter": "python",
   "pygments_lexer": "ipython3",
   "version": "3.12.7"
  }
 },
 "nbformat": 4,
 "nbformat_minor": 5
}
